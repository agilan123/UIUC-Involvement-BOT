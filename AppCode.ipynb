{
  "nbformat": 4,
  "nbformat_minor": 0,
  "metadata": {
    "colab": {
      "provenance": []
    },
    "kernelspec": {
      "name": "python3",
      "display_name": "Python 3"
    },
    "language_info": {
      "name": "python"
    }
  },
  "cells": [
    {
      "cell_type": "code",
      "execution_count": null,
      "metadata": {
        "id": "jZxGz-M9Rsr7"
      },
      "outputs": [],
      "source": [
        "#SUPER SUPER SIMPLE POST REQUEST FROM HTML PAGE\n",
        "\n",
        "from flask import Flask, request, jsonify\n",
        "import json\n",
        "from model_utils import predict_category_and_intensity\n",
        "\n",
        "app = Flask(__name__)\n",
        "\n",
        "@app.route('/submit', methods=['POST'])\n",
        "def handle_query():\n",
        "    data = request.json\n",
        "    result = predict_category_and_intensity(json.dumps(data))\n",
        "    return jsonify(result)\n",
        "\n",
        "if __name__ == '__main__':\n",
        "    app.run(debug=True)\n",
        "\n"
      ]
    }
  ]
}