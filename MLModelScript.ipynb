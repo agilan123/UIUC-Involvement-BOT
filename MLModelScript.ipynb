{
  "nbformat": 4,
  "nbformat_minor": 0,
  "metadata": {
    "colab": {
      "provenance": []
    },
    "kernelspec": {
      "name": "python3",
      "display_name": "Python 3"
    },
    "language_info": {
      "name": "python"
    }
  },
  "cells": [
    {
      "cell_type": "code",
      "execution_count": null,
      "metadata": {
        "id": "jZxGz-M9Rsr7"
      },
      "outputs": [],
      "source": [
        "import json\n",
        "import numpy as np\n",
        "from tensorflow import keras\n",
        "from keras.preprocessing.text import Tokenizer\n",
        "from keras.preprocessing.sequence import pad_sequences\n",
        "\n",
        "CATEGORICAL_CLASSIFIER_MODEL_PATH = 'categorical_classifier.h5'\n",
        "INTENSITY_PREDICTOR_MODEL_PATH = 'intensity_predictor.h5'\n",
        "\n",
        "categorical_classifier = keras.models.load_model(CATEGORICAL_CLASSIFIER_MODEL_PATH)\n",
        "intensity_predictor = keras.models.load_model(INTENSITY_PREDICTOR_MODEL_PATH)\n",
        "\n",
        "def preprocess_query(query, tokenizer, max_length=100):\n",
        "    sequences = tokenizer.texts_to_sequences([query])\n",
        "    padded = pad_sequences(sequences, maxlen=max_length)\n",
        "    return padded\n",
        "\n",
        "def predict_category_and_intensity(json_input):\n",
        "    data = json.loads(json_input)\n",
        "    query = data['query']\n",
        "\n",
        "    tokenizer = Tokenizer(num_words=30000) #Since we are generating about 1000 queries, we can assume 30-ish words per query? If each word (worst-case) is distinct, the tokenizer needs a dictionary of 30000 words.\n",
        "\n",
        "    processed_query = preprocess_query(query, tokenizer)\n",
        "\n",
        "    category_pred = np.argmax(categorical_classifier.predict(processed_query), axis=-1)\n",
        "    intensity_pred = np.argmax(intensity_predictor.predict(processed_query), axis=-1)\n",
        "\n",
        "    return {\n",
        "        \"category_prediction\": int(category_pred),\n",
        "        \"intensity_prediction\": int(intensity_pred)\n",
        "    }\n",
        "\n",
        "\n"
      ]
    }
  ]
}